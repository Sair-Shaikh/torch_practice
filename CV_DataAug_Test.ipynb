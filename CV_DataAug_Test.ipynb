{
  "nbformat": 4,
  "nbformat_minor": 0,
  "metadata": {
    "colab": {
      "provenance": []
    },
    "kernelspec": {
      "name": "python3",
      "display_name": "Python 3"
    },
    "language_info": {
      "name": "python"
    }
  },
  "cells": [
    {
      "cell_type": "code",
      "source": [
        "!pip3 install --pre torch torchvision --extra-index-url https://download.pytorch.org/whl/nightly/cpu\n",
        "!pip3 install matplotlib"
      ],
      "metadata": {
        "colab": {
          "base_uri": "https://localhost:8080/"
        },
        "id": "zUbX9TBp5Nl3",
        "outputId": "0ac3fa03-6e78-4510-ecdd-d6ce0c532f77"
      },
      "execution_count": 1,
      "outputs": [
        {
          "output_type": "stream",
          "name": "stdout",
          "text": [
            "Looking in indexes: https://pypi.org/simple, https://download.pytorch.org/whl/nightly/cpu\n",
            "Requirement already satisfied: torch in /usr/local/lib/python3.10/dist-packages (2.1.0+cu118)\n",
            "Requirement already satisfied: torchvision in /usr/local/lib/python3.10/dist-packages (0.16.0+cu118)\n",
            "Requirement already satisfied: filelock in /usr/local/lib/python3.10/dist-packages (from torch) (3.12.4)\n",
            "Requirement already satisfied: typing-extensions in /usr/local/lib/python3.10/dist-packages (from torch) (4.5.0)\n",
            "Requirement already satisfied: sympy in /usr/local/lib/python3.10/dist-packages (from torch) (1.12)\n",
            "Requirement already satisfied: networkx in /usr/local/lib/python3.10/dist-packages (from torch) (3.1)\n",
            "Requirement already satisfied: jinja2 in /usr/local/lib/python3.10/dist-packages (from torch) (3.1.2)\n",
            "Requirement already satisfied: fsspec in /usr/local/lib/python3.10/dist-packages (from torch) (2023.6.0)\n",
            "Requirement already satisfied: triton==2.1.0 in /usr/local/lib/python3.10/dist-packages (from torch) (2.1.0)\n",
            "Requirement already satisfied: numpy in /usr/local/lib/python3.10/dist-packages (from torchvision) (1.23.5)\n",
            "Requirement already satisfied: requests in /usr/local/lib/python3.10/dist-packages (from torchvision) (2.31.0)\n",
            "Requirement already satisfied: pillow!=8.3.*,>=5.3.0 in /usr/local/lib/python3.10/dist-packages (from torchvision) (9.4.0)\n",
            "Requirement already satisfied: MarkupSafe>=2.0 in /usr/local/lib/python3.10/dist-packages (from jinja2->torch) (2.1.3)\n",
            "Requirement already satisfied: charset-normalizer<4,>=2 in /usr/local/lib/python3.10/dist-packages (from requests->torchvision) (3.3.0)\n",
            "Requirement already satisfied: idna<4,>=2.5 in /usr/local/lib/python3.10/dist-packages (from requests->torchvision) (3.4)\n",
            "Requirement already satisfied: urllib3<3,>=1.21.1 in /usr/local/lib/python3.10/dist-packages (from requests->torchvision) (2.0.7)\n",
            "Requirement already satisfied: certifi>=2017.4.17 in /usr/local/lib/python3.10/dist-packages (from requests->torchvision) (2023.7.22)\n",
            "Requirement already satisfied: mpmath>=0.19 in /usr/local/lib/python3.10/dist-packages (from sympy->torch) (1.3.0)\n",
            "Requirement already satisfied: matplotlib in /usr/local/lib/python3.10/dist-packages (3.7.1)\n",
            "Requirement already satisfied: contourpy>=1.0.1 in /usr/local/lib/python3.10/dist-packages (from matplotlib) (1.1.1)\n",
            "Requirement already satisfied: cycler>=0.10 in /usr/local/lib/python3.10/dist-packages (from matplotlib) (0.12.1)\n",
            "Requirement already satisfied: fonttools>=4.22.0 in /usr/local/lib/python3.10/dist-packages (from matplotlib) (4.43.1)\n",
            "Requirement already satisfied: kiwisolver>=1.0.1 in /usr/local/lib/python3.10/dist-packages (from matplotlib) (1.4.5)\n",
            "Requirement already satisfied: numpy>=1.20 in /usr/local/lib/python3.10/dist-packages (from matplotlib) (1.23.5)\n",
            "Requirement already satisfied: packaging>=20.0 in /usr/local/lib/python3.10/dist-packages (from matplotlib) (23.2)\n",
            "Requirement already satisfied: pillow>=6.2.0 in /usr/local/lib/python3.10/dist-packages (from matplotlib) (9.4.0)\n",
            "Requirement already satisfied: pyparsing>=2.3.1 in /usr/local/lib/python3.10/dist-packages (from matplotlib) (3.1.1)\n",
            "Requirement already satisfied: python-dateutil>=2.7 in /usr/local/lib/python3.10/dist-packages (from matplotlib) (2.8.2)\n",
            "Requirement already satisfied: six>=1.5 in /usr/local/lib/python3.10/dist-packages (from python-dateutil>=2.7->matplotlib) (1.16.0)\n"
          ]
        }
      ]
    },
    {
      "cell_type": "code",
      "execution_count": 2,
      "metadata": {
        "id": "xBNyxirGXfwk"
      },
      "outputs": [],
      "source": [
        "import pandas as pd\n",
        "import matplotlib.pyplot as plt\n",
        "import torch\n",
        "import torch.nn as nn\n",
        "import torchvision\n",
        "import torchvision.transforms.v2 as transforms\n",
        "from torch.utils.data import DataLoader\n",
        "from torchvision import datasets\n"
      ]
    },
    {
      "cell_type": "markdown",
      "source": [
        "# Data Loading and Augmentation:"
      ],
      "metadata": {
        "id": "y7dwCvBdXhgQ"
      }
    },
    {
      "cell_type": "code",
      "source": [
        "NO_AUG = transforms.Compose([ transforms.ToTensor()\n",
        "                            ])\n",
        "\n",
        "AUG = transforms.Compose([  transforms.RandomHorizontalFlip(),\n",
        "                            transforms.RandomVerticalFlip(),\n",
        "                            transforms.ColorJitter(brightness= 0.2, contrast = 0.2 , saturation = 0.2),\n",
        "                            transforms.RandomInvert(),\n",
        "                            transforms.ToTensor()\n",
        "                          ])\n",
        "\n",
        "cifar_train_reg = torchvision.datasets.CIFAR10(root = 'data',\n",
        "                                             train = True,\n",
        "                                             download = True,\n",
        "                                             transform = NO_AUG\n",
        "                                             )\n",
        "cifar_train_aug = torchvision.datasets.CIFAR10(root = 'data',\n",
        "                                             train = True,\n",
        "                                             download = True,\n",
        "                                             transform = AUG\n",
        "                                             )\n",
        "\n",
        "cifar_test = torchvision.datasets.CIFAR10(root = 'data',\n",
        "                                            train = False,\n",
        "                                            download=True,\n",
        "                                            transform = NO_AUG\n",
        "                                          )\n",
        "\n",
        "print(len(cifar_train_reg))\n",
        "print(len(cifar_train_aug))\n",
        "print(len(cifar_test))\n",
        "\n"
      ],
      "metadata": {
        "colab": {
          "base_uri": "https://localhost:8080/"
        },
        "id": "iLr31JJu5tq-",
        "outputId": "123bac5d-1f18-41c5-93db-2ea068319567"
      },
      "execution_count": 3,
      "outputs": [
        {
          "output_type": "stream",
          "name": "stderr",
          "text": [
            "/usr/local/lib/python3.10/dist-packages/torchvision/transforms/v2/_deprecated.py:43: UserWarning: The transform `ToTensor()` is deprecated and will be removed in a future release. Instead, please use `v2.Compose([v2.ToImage(), v2.ToDtype(torch.float32, scale=True)])`.\n",
            "  warnings.warn(\n"
          ]
        },
        {
          "output_type": "stream",
          "name": "stdout",
          "text": [
            "Files already downloaded and verified\n",
            "Files already downloaded and verified\n",
            "Files already downloaded and verified\n",
            "50000\n",
            "50000\n",
            "10000\n"
          ]
        }
      ]
    },
    {
      "cell_type": "code",
      "source": [
        "label_names = [\"airplane\", \"automobile\", \"bird\", \"cat\", \"deer\", \"dog\", \"frog\", \"horse\", \"ship\", \"truck\"]\n",
        "\n",
        "\n",
        "plt.style.use(\"seaborn-v0_8-whitegrid\")\n",
        "figsize = (6, 12)\n",
        "figure = plt.figure(figsize=figsize)\n",
        "rows = 6\n",
        "\n",
        "for i in range(rows):\n",
        "  idx = torch.randint(len(cifar_train_reg), size = (1,)).item()\n",
        "  for j in range(2):\n",
        "      if j==0:\n",
        "        img, label = cifar_train_reg[idx]\n",
        "        label = label_names[label] + \"_reg\"\n",
        "      else:\n",
        "        img, label = cifar_train_aug[idx]\n",
        "        label = label_names[label] + \"_aug\"\n",
        "\n",
        "      figure.add_subplot(rows, 2, i*2+j+1)\n",
        "      plt.axis(\"off\")\n",
        "      plt.title(label, fontsize=14)\n",
        "      plt.imshow(img.T)\n",
        "\n"
      ],
      "metadata": {
        "colab": {
          "base_uri": "https://localhost:8080/",
          "height": 1000
        },
        "id": "kRR_FkM07-be",
        "outputId": "3abdae31-c9f2-4b43-e8d4-c8e15a81d50b"
      },
      "execution_count": 4,
      "outputs": [
        {
          "output_type": "stream",
          "name": "stderr",
          "text": [
            "<ipython-input-4-2bf589722c5a>:21: UserWarning: The use of `x.T` on tensors of dimension other than 2 to reverse their shape is deprecated and it will throw an error in a future release. Consider `x.mT` to transpose batches of matrices or `x.permute(*torch.arange(x.ndim - 1, -1, -1))` to reverse the dimensions of a tensor. (Triggered internally at ../aten/src/ATen/native/TensorShape.cpp:3614.)\n",
            "  plt.imshow(img.T)\n"
          ]
        },
        {
          "output_type": "display_data",
          "data": {
            "text/plain": [
              "<Figure size 600x1200 with 12 Axes>"
            ],
            "image/png": "[encoded data removed]"
          },
          "metadata": {}
        }
      ]
    },
    {
      "cell_type": "code",
      "source": [
        "batch_size = 64\n",
        "train_reg_dl = DataLoader(cifar_train_reg, batch_size = batch_size, shuffle = True)\n",
        "train_aug_dl = DataLoader(cifar_train_aug, batch_size = batch_size, shuffle = True)\n",
        "test_dl = DataLoader(cifar_test, batch_size = 64, shuffle = True)"
      ],
      "metadata": {
        "id": "Oh7AelsGLItQ"
      },
      "execution_count": 5,
      "outputs": []
    },
    {
      "cell_type": "markdown",
      "source": [
        "# Building a ConvNet:"
      ],
      "metadata": {
        "id": "dIMPqmp5LerG"
      }
    },
    {
      "cell_type": "code",
      "source": [
        "class ConvNet(nn.Module):\n",
        "    def __init__(self):\n",
        "        super(ConvNet, self).__init__()\n",
        "\n",
        "        self.conv1 = nn.Conv2d(in_channels = 3, out_channels = 32, kernel_size = 3, stride = 1, padding=1)\n",
        "        self.conv2 = nn.Conv2d(32, 64, 3, 1, 1)\n",
        "        self.conv3 = nn.Conv2d(64, 128, 3, 1, 1)\n",
        "        self.maxpool = nn.MaxPool2d(kernel_size = 2, stride = 2)\n",
        "        self.lin1 = nn.Linear(16*128, 512)\n",
        "        self.lin2 = nn.Linear(512, 10)\n",
        "        self.relu = nn.ReLU()\n",
        "        self.dropout = nn.Dropout()\n",
        "        self.flatten = nn.Flatten()\n",
        "\n",
        "\n",
        "    def forward(self, inp):\n",
        "        out = self.relu(self.conv1(inp))\n",
        "        out = self.maxpool(out)\n",
        "\n",
        "        out = self.relu(self.conv2(out))\n",
        "        out = self.maxpool(out)\n",
        "\n",
        "\n",
        "        out = self.relu(self.conv3(out))\n",
        "        out = self.maxpool(out)\n",
        "\n",
        "\n",
        "        out = self.flatten(out)\n",
        "        out = self.relu(self.lin1(out))\n",
        "        out = self.dropout(out)\n",
        "        out = self.lin2(out)\n",
        "\n",
        "        return out"
      ],
      "metadata": {
        "id": "qUgLa9M-C2NL"
      },
      "execution_count": 6,
      "outputs": []
    },
    {
      "cell_type": "code",
      "source": [
        "model_reg = ConvNet()\n",
        "model_aug = ConvNet()"
      ],
      "metadata": {
        "id": "XrdbBfVKC2Kb"
      },
      "execution_count": 7,
      "outputs": []
    },
    {
      "cell_type": "markdown",
      "source": [
        "# Training:"
      ],
      "metadata": {
        "id": "J9-UdMSgUYVg"
      }
    },
    {
      "cell_type": "code",
      "source": [
        "loss_func = nn.CrossEntropyLoss()\n",
        "optimizer_reg = torch.optim.Adam(model_reg.parameters(), lr=1e-3)\n",
        "optimizer_aug = torch.optim.Adam(model_aug.parameters(), lr=1e-3)\n"
      ],
      "metadata": {
        "id": "koSe_zicC2Hk"
      },
      "execution_count": 8,
      "outputs": []
    },
    {
      "cell_type": "code",
      "source": [
        "def train(model, loss_func, optimizer, dataloader, epochs):\n",
        "    loss_hist = []\n",
        "    acc_hist = []\n",
        "\n",
        "    model.train()\n",
        "    for i in range(epochs):\n",
        "        print(\"Epoch {:d} of {:d}:\".format(i+1, epochs))\n",
        "        epoch_loss = 0\n",
        "        epoch_acc = 0\n",
        "        for j, (imgs, labels) in enumerate(dataloader):\n",
        "\n",
        "            probs = model(imgs)\n",
        "            vals, preds = torch.max(probs, 1)\n",
        "\n",
        "            loss = loss_func(probs, labels)\n",
        "            corr = torch.sum(preds == labels.data)\n",
        "\n",
        "            if ((j+1)% 100 == 0):\n",
        "                print(\"\\t For batch {:d}: Loss: {:f}, Accuracy: {:f}\".format(j+1, loss.item()/batch_size, float(corr.item())/batch_size))\n",
        "\n",
        "\n",
        "            epoch_loss += loss.item()\n",
        "            epoch_acc += corr.item()\n",
        "\n",
        "            optimizer.zero_grad()\n",
        "            loss.backward()\n",
        "            optimizer.step()\n",
        "\n",
        "        epoch_loss /= len(dataloader)\n",
        "        epoch_acc  /= len(dataloader)\n",
        "        print(\"Epoch {:d}: Training Loss: {:f}, Accuracy: {:f} \\n\".format(i+1, epoch_loss, epoch_acc))\n",
        "\n",
        "        loss_hist.append(epoch_loss)\n",
        "        acc_hist.append(epoch_acc)\n",
        "    return(loss_hist, acc_hist)\n",
        "\n",
        "loss_hist_reg, acc_hist_reg = train(model_reg, loss_func=loss_func, optimizer=optimizer_reg, dataloader=train_aug_dl, epochs=8)\n",
        "loss_hist_aug, acc_hist_aug = train(model_aug, loss_func=loss_func, optimizer=optimizer_aug, dataloader=train_aug_dl, epochs=8)"
      ],
      "metadata": {
        "colab": {
          "base_uri": "https://localhost:8080/"
        },
        "id": "Wg0pMjzTC2E3",
        "outputId": "4f913adf-0df1-4696-89ef-ccc763f3f1f5"
      },
      "execution_count": null,
      "outputs": [
        {
          "output_type": "stream",
          "name": "stdout",
          "text": [
            "Epoch 1 of 8:\n",
            "\t For batch 100: Loss: 0.036102, Accuracy: 0.109375\n",
            "\t For batch 200: Loss: 0.030374, Accuracy: 0.281250\n",
            "\t For batch 300: Loss: 0.031743, Accuracy: 0.250000\n",
            "\t For batch 400: Loss: 0.030170, Accuracy: 0.281250\n",
            "\t For batch 500: Loss: 0.026219, Accuracy: 0.390625\n",
            "\t For batch 600: Loss: 0.024811, Accuracy: 0.484375\n",
            "\t For batch 700: Loss: 0.026512, Accuracy: 0.390625\n",
            "Epoch 1: Training Loss: 1.948315, Accuracy: 17.081841 \n",
            "\n",
            "Epoch 2 of 8:\n",
            "\t For batch 100: Loss: 0.026771, Accuracy: 0.406250\n",
            "\t For batch 200: Loss: 0.026902, Accuracy: 0.375000\n",
            "\t For batch 300: Loss: 0.026856, Accuracy: 0.437500\n",
            "\t For batch 400: Loss: 0.021751, Accuracy: 0.468750\n",
            "\t For batch 500: Loss: 0.025965, Accuracy: 0.406250\n",
            "\t For batch 600: Loss: 0.024774, Accuracy: 0.375000\n",
            "\t For batch 700: Loss: 0.022144, Accuracy: 0.468750\n",
            "Epoch 2: Training Loss: 1.615591, Accuracy: 26.121483 \n",
            "\n",
            "Epoch 3 of 8:\n",
            "\t For batch 100: Loss: 0.026807, Accuracy: 0.328125\n",
            "\t For batch 200: Loss: 0.020650, Accuracy: 0.421875\n",
            "\t For batch 300: Loss: 0.022038, Accuracy: 0.546875\n",
            "\t For batch 400: Loss: 0.021105, Accuracy: 0.484375\n",
            "\t For batch 500: Loss: 0.024164, Accuracy: 0.468750\n",
            "\t For batch 600: Loss: 0.026333, Accuracy: 0.437500\n",
            "\t For batch 700: Loss: 0.020488, Accuracy: 0.562500\n",
            "Epoch 3: Training Loss: 1.450632, Accuracy: 30.390026 \n",
            "\n",
            "Epoch 4 of 8:\n",
            "\t For batch 100: Loss: 0.018668, Accuracy: 0.625000\n",
            "\t For batch 200: Loss: 0.023406, Accuracy: 0.453125\n",
            "\t For batch 300: Loss: 0.020684, Accuracy: 0.484375\n",
            "\t For batch 400: Loss: 0.018846, Accuracy: 0.546875\n",
            "\t For batch 500: Loss: 0.021586, Accuracy: 0.437500\n",
            "\t For batch 600: Loss: 0.024856, Accuracy: 0.421875\n",
            "\t For batch 700: Loss: 0.020233, Accuracy: 0.515625\n",
            "Epoch 4: Training Loss: 1.350569, Accuracy: 32.942455 \n",
            "\n",
            "Epoch 5 of 8:\n",
            "\t For batch 100: Loss: 0.023862, Accuracy: 0.531250\n",
            "\t For batch 200: Loss: 0.025180, Accuracy: 0.359375\n",
            "\t For batch 300: Loss: 0.020468, Accuracy: 0.500000\n",
            "\t For batch 400: Loss: 0.022639, Accuracy: 0.515625\n",
            "\t For batch 500: Loss: 0.020147, Accuracy: 0.421875\n",
            "\t For batch 600: Loss: 0.020782, Accuracy: 0.515625\n",
            "\t For batch 700: Loss: 0.019384, Accuracy: 0.546875\n",
            "Epoch 5: Training Loss: 1.262596, Accuracy: 35.033248 \n",
            "\n",
            "Epoch 6 of 8:\n",
            "\t For batch 100: Loss: 0.020301, Accuracy: 0.515625\n",
            "\t For batch 200: Loss: 0.018302, Accuracy: 0.562500\n",
            "\t For batch 300: Loss: 0.020723, Accuracy: 0.484375\n",
            "\t For batch 400: Loss: 0.018506, Accuracy: 0.578125\n",
            "\t For batch 500: Loss: 0.020138, Accuracy: 0.531250\n",
            "\t For batch 600: Loss: 0.016330, Accuracy: 0.609375\n",
            "\t For batch 700: Loss: 0.017683, Accuracy: 0.562500\n",
            "Epoch 6: Training Loss: 1.207497, Accuracy: 36.432225 \n",
            "\n",
            "Epoch 7 of 8:\n",
            "\t For batch 100: Loss: 0.016642, Accuracy: 0.671875\n",
            "\t For batch 200: Loss: 0.014451, Accuracy: 0.656250\n",
            "\t For batch 300: Loss: 0.017193, Accuracy: 0.609375\n",
            "\t For batch 400: Loss: 0.014752, Accuracy: 0.671875\n",
            "\t For batch 500: Loss: 0.015546, Accuracy: 0.625000\n",
            "\t For batch 600: Loss: 0.020498, Accuracy: 0.500000\n",
            "\t For batch 700: Loss: 0.018645, Accuracy: 0.546875\n",
            "Epoch 7: Training Loss: 1.163624, Accuracy: 37.413043 \n",
            "\n",
            "Epoch 8 of 8:\n",
            "\t For batch 100: Loss: 0.018396, Accuracy: 0.546875\n",
            "\t For batch 200: Loss: 0.016977, Accuracy: 0.718750\n",
            "\t For batch 300: Loss: 0.017433, Accuracy: 0.500000\n",
            "\t For batch 400: Loss: 0.019027, Accuracy: 0.515625\n",
            "\t For batch 500: Loss: 0.015587, Accuracy: 0.671875\n",
            "\t For batch 600: Loss: 0.015525, Accuracy: 0.656250\n",
            "\t For batch 700: Loss: 0.016026, Accuracy: 0.609375\n",
            "Epoch 8: Training Loss: 1.122494, Accuracy: 38.318414 \n",
            "\n",
            "Epoch 1 of 8:\n",
            "\t For batch 100: Loss: 0.036084, Accuracy: 0.109375\n",
            "\t For batch 200: Loss: 0.035392, Accuracy: 0.093750\n",
            "\t For batch 300: Loss: 0.031459, Accuracy: 0.250000\n",
            "\t For batch 400: Loss: 0.029185, Accuracy: 0.343750\n",
            "\t For batch 500: Loss: 0.027225, Accuracy: 0.359375\n",
            "\t For batch 600: Loss: 0.027235, Accuracy: 0.375000\n",
            "\t For batch 700: Loss: 0.028029, Accuracy: 0.343750\n",
            "Epoch 1: Training Loss: 1.980902, Accuracy: 16.216113 \n",
            "\n",
            "Epoch 2 of 8:\n",
            "\t For batch 100: Loss: 0.028844, Accuracy: 0.234375\n",
            "\t For batch 200: Loss: 0.025959, Accuracy: 0.453125\n",
            "\t For batch 300: Loss: 0.029261, Accuracy: 0.359375\n",
            "\t For batch 400: Loss: 0.027925, Accuracy: 0.390625\n",
            "\t For batch 500: Loss: 0.025775, Accuracy: 0.359375\n",
            "\t For batch 600: Loss: 0.023472, Accuracy: 0.390625\n",
            "\t For batch 700: Loss: 0.028314, Accuracy: 0.328125\n",
            "Epoch 2: Training Loss: 1.637005, Accuracy: 25.464194 \n",
            "\n",
            "Epoch 3 of 8:\n",
            "\t For batch 100: Loss: 0.021575, Accuracy: 0.421875\n",
            "\t For batch 200: Loss: 0.024682, Accuracy: 0.453125\n",
            "\t For batch 300: Loss: 0.023461, Accuracy: 0.515625\n",
            "\t For batch 400: Loss: 0.023287, Accuracy: 0.406250\n",
            "\t For batch 500: Loss: 0.021522, Accuracy: 0.437500\n",
            "\t For batch 600: Loss: 0.021586, Accuracy: 0.453125\n",
            "\t For batch 700: Loss: 0.020723, Accuracy: 0.500000\n",
            "Epoch 3: Training Loss: 1.484085, Accuracy: 29.199488 \n",
            "\n",
            "Epoch 4 of 8:\n",
            "\t For batch 100: Loss: 0.019155, Accuracy: 0.515625\n",
            "\t For batch 200: Loss: 0.026441, Accuracy: 0.437500\n",
            "\t For batch 300: Loss: 0.026071, Accuracy: 0.531250\n",
            "\t For batch 400: Loss: 0.024836, Accuracy: 0.421875\n",
            "\t For batch 500: Loss: 0.022225, Accuracy: 0.484375\n",
            "\t For batch 600: Loss: 0.017617, Accuracy: 0.656250\n",
            "\t For batch 700: Loss: 0.019101, Accuracy: 0.515625\n",
            "Epoch 4: Training Loss: 1.374041, Accuracy: 32.081841 \n",
            "\n",
            "Epoch 5 of 8:\n",
            "\t For batch 100: Loss: 0.019045, Accuracy: 0.578125\n",
            "\t For batch 200: Loss: 0.018209, Accuracy: 0.484375\n",
            "\t For batch 300: Loss: 0.020187, Accuracy: 0.531250\n",
            "\t For batch 400: Loss: 0.020310, Accuracy: 0.531250\n",
            "\t For batch 500: Loss: 0.019994, Accuracy: 0.515625\n",
            "\t For batch 600: Loss: 0.022383, Accuracy: 0.468750\n",
            "\t For batch 700: Loss: 0.019558, Accuracy: 0.562500\n",
            "Epoch 5: Training Loss: 1.302839, Accuracy: 33.916880 \n",
            "\n",
            "Epoch 6 of 8:\n",
            "\t For batch 100: Loss: 0.022978, Accuracy: 0.484375\n",
            "\t For batch 200: Loss: 0.020690, Accuracy: 0.484375\n"
          ]
        }
      ]
    },
    {
      "cell_type": "markdown",
      "source": [
        "# Testing:"
      ],
      "metadata": {
        "id": "3b-2f1XSPOEV"
      }
    },
    {
      "cell_type": "code",
      "source": [
        "plt.figsize = (5, 5)\n",
        "plt.style.use(\"seaborn-v0_8-whitegrid\")\n",
        "\n",
        "plt.plot(loss_hist_reg, label=\"Reg Loss\")\n",
        "plt.plot(loss_hist_aug, label=\"Aug Loss\")\n",
        "plt.title(\"Comparing Augmented and Regular Loss\")\n",
        "plt.legend()\n",
        "plt.show()\n",
        "\n",
        "\n",
        "plt.plot(acc_hist_reg, label=\"Reg Acc\")\n",
        "plt.plot(acc_hist_aug, label=\"Aug Acc\")\n",
        "plt.title(\"Comparing Augmented and Regular Accuracy\")\n",
        "plt.legend()\n",
        "plt.show()"
      ],
      "metadata": {
        "id": "2OkGtvjnTvhE"
      },
      "execution_count": null,
      "outputs": []
    },
    {
      "cell_type": "code",
      "source": [
        "def test(model, dataloader):\n",
        "    total_loss = 0\n",
        "    total_corr = 0\n",
        "    model.eval()\n",
        "    with torch.no_grad():\n",
        "        for imgs, labels in dataloader:\n",
        "\n",
        "\n",
        "            probs = model(imgs)\n",
        "            vals, preds = torch.max(probs, 1)\n",
        "\n",
        "            total_loss = loss_func(probs, labels).item()\n",
        "            total_corr += torch.sum(preds == labels).item()\n",
        "\n",
        "        avg_loss = total_loss / len(dataloader)\n",
        "        acc  = float(total_corr)/len(dataloader)\n",
        "        print(\"Testing Loss: {:f}, Accuracy: {:f}\".format(avg_loss, acc))\n",
        "\n",
        "test(model_reg, test_dl)\n",
        "test(model_aug, test_dl)\n"
      ],
      "metadata": {
        "id": "tMnMoXOiC2CG"
      },
      "execution_count": null,
      "outputs": []
    },
    {
      "cell_type": "code",
      "source": [
        "idxs = 25\n",
        "imgs, labels = next(iter(test_dl))\n",
        "img, label = imgs[idx], label_names[labels[idx].item()]\n",
        "plt.title(label)\n",
        "plt.imshow(img.T)\n",
        "plt.axis(\"off\")\n",
        "plt.show()\n",
        "\n",
        "features_reg = model_reg.conv1(img)\n",
        "features_aug = model_aug.conv1(img)\n",
        "\n",
        "figsize = (6, 12)\n",
        "figure = plt.figure(figsize=figsize)\n",
        "\n",
        "rows = 8\n",
        "for i in range(rows):\n",
        "  for j in range(4):\n",
        "      if j % 2 ==0:\n",
        "        img = features_reg[i+j/2].T.detach().numpy()\n",
        "      else:\n",
        "        img = features_aug[i+(j-1)/2].T.detach().numpy()\n",
        "      figure.add_subplot(rows, 2, i*2+j+1)\n",
        "      plt.axis(\"off\")\n",
        "      plt.title(\"Feature {:d}\".format(i), fontsize=14)\n",
        "      plt.imshow(img)\n",
        "plt.show()\n"
      ],
      "metadata": {
        "id": "7GOj-cpBYFCj"
      },
      "execution_count": null,
      "outputs": []
    },
    {
      "cell_type": "code",
      "source": [
        "torch.save(model_reg.state_dict(), \"./cifar10reg.pth\")\n",
        "torch.save(model_aug.state_dict(), \"./cifar10aug.pth\")"
      ],
      "metadata": {
        "id": "L7nKrjEKiT92"
      },
      "execution_count": null,
      "outputs": []
    }
  ]
}