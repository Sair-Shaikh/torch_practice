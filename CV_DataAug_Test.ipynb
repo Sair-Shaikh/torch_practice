{
  "cells": [
    {
      "cell_type": "markdown",
      "metadata": {
        "id": "view-in-github",
        "colab_type": "text"
      },
      "source": [
        "<a href=\"https://colab.research.google.com/github/Sair-Shaikh/torch_practice/blob/main/CV_DataAug_Test.ipynb\" target=\"_parent\"><img src=\"https://colab.research.google.com/assets/colab-badge.svg\" alt=\"Open In Colab\"/></a>"
      ]
    },
    {
      "cell_type": "code",
      "execution_count": 15,
      "metadata": {
        "colab": {
          "base_uri": "https://localhost:8080/"
        },
        "id": "zUbX9TBp5Nl3",
        "outputId": "e404306f-575f-42b5-e71c-457073a981a6"
      },
      "outputs": [
        {
          "output_type": "stream",
          "name": "stdout",
          "text": [
            "Looking in indexes: https://pypi.org/simple, https://download.pytorch.org/whl/nightly/cpu\n",
            "Requirement already satisfied: torch in /usr/local/lib/python3.10/dist-packages (2.1.0+cu118)\n",
            "Requirement already satisfied: torchvision in /usr/local/lib/python3.10/dist-packages (0.16.0+cu118)\n",
            "Requirement already satisfied: filelock in /usr/local/lib/python3.10/dist-packages (from torch) (3.12.4)\n",
            "Requirement already satisfied: typing-extensions in /usr/local/lib/python3.10/dist-packages (from torch) (4.5.0)\n",
            "Requirement already satisfied: sympy in /usr/local/lib/python3.10/dist-packages (from torch) (1.12)\n",
            "Requirement already satisfied: networkx in /usr/local/lib/python3.10/dist-packages (from torch) (3.2)\n",
            "Requirement already satisfied: jinja2 in /usr/local/lib/python3.10/dist-packages (from torch) (3.1.2)\n",
            "Requirement already satisfied: fsspec in /usr/local/lib/python3.10/dist-packages (from torch) (2023.6.0)\n",
            "Requirement already satisfied: triton==2.1.0 in /usr/local/lib/python3.10/dist-packages (from torch) (2.1.0)\n",
            "Requirement already satisfied: numpy in /usr/local/lib/python3.10/dist-packages (from torchvision) (1.23.5)\n",
            "Requirement already satisfied: requests in /usr/local/lib/python3.10/dist-packages (from torchvision) (2.31.0)\n",
            "Requirement already satisfied: pillow!=8.3.*,>=5.3.0 in /usr/local/lib/python3.10/dist-packages (from torchvision) (9.4.0)\n",
            "Requirement already satisfied: MarkupSafe>=2.0 in /usr/local/lib/python3.10/dist-packages (from jinja2->torch) (2.1.3)\n",
            "Requirement already satisfied: charset-normalizer<4,>=2 in /usr/local/lib/python3.10/dist-packages (from requests->torchvision) (3.3.1)\n",
            "Requirement already satisfied: idna<4,>=2.5 in /usr/local/lib/python3.10/dist-packages (from requests->torchvision) (3.4)\n",
            "Requirement already satisfied: urllib3<3,>=1.21.1 in /usr/local/lib/python3.10/dist-packages (from requests->torchvision) (2.0.7)\n",
            "Requirement already satisfied: certifi>=2017.4.17 in /usr/local/lib/python3.10/dist-packages (from requests->torchvision) (2023.7.22)\n",
            "Requirement already satisfied: mpmath>=0.19 in /usr/local/lib/python3.10/dist-packages (from sympy->torch) (1.3.0)\n",
            "Requirement already satisfied: matplotlib in /usr/local/lib/python3.10/dist-packages (3.7.1)\n",
            "Requirement already satisfied: contourpy>=1.0.1 in /usr/local/lib/python3.10/dist-packages (from matplotlib) (1.1.1)\n",
            "Requirement already satisfied: cycler>=0.10 in /usr/local/lib/python3.10/dist-packages (from matplotlib) (0.12.1)\n",
            "Requirement already satisfied: fonttools>=4.22.0 in /usr/local/lib/python3.10/dist-packages (from matplotlib) (4.43.1)\n",
            "Requirement already satisfied: kiwisolver>=1.0.1 in /usr/local/lib/python3.10/dist-packages (from matplotlib) (1.4.5)\n",
            "Requirement already satisfied: numpy>=1.20 in /usr/local/lib/python3.10/dist-packages (from matplotlib) (1.23.5)\n",
            "Requirement already satisfied: packaging>=20.0 in /usr/local/lib/python3.10/dist-packages (from matplotlib) (23.2)\n",
            "Requirement already satisfied: pillow>=6.2.0 in /usr/local/lib/python3.10/dist-packages (from matplotlib) (9.4.0)\n",
            "Requirement already satisfied: pyparsing>=2.3.1 in /usr/local/lib/python3.10/dist-packages (from matplotlib) (3.1.1)\n",
            "Requirement already satisfied: python-dateutil>=2.7 in /usr/local/lib/python3.10/dist-packages (from matplotlib) (2.8.2)\n",
            "Requirement already satisfied: six>=1.5 in /usr/local/lib/python3.10/dist-packages (from python-dateutil>=2.7->matplotlib) (1.16.0)\n"
          ]
        }
      ],
      "source": [
        "!pip3 install --pre torch torchvision --extra-index-url https://download.pytorch.org/whl/nightly/cpu\n",
        "!pip3 install matplotlib"
      ]
    },
    {
      "cell_type": "code",
      "execution_count": 16,
      "metadata": {
        "id": "xBNyxirGXfwk"
      },
      "outputs": [],
      "source": [
        "import pandas as pd\n",
        "import matplotlib.pyplot as plt\n",
        "import torch\n",
        "import torch.nn as nn\n",
        "import torchvision\n",
        "import torchvision.transforms.v2 as transforms\n",
        "from torch.utils.data import DataLoader\n",
        "from torchvision import datasets\n"
      ]
    },
    {
      "cell_type": "markdown",
      "metadata": {
        "id": "y7dwCvBdXhgQ"
      },
      "source": [
        "# Data Loading and Augmentation:"
      ]
    },
    {
      "cell_type": "markdown",
      "metadata": {
        "id": "LA6LaiqU41dJ"
      },
      "source": [
        "The purpose of this notebook is to highlight the differences on model accuracy between training on augmented and unaugmented datasets. Also, i'm trying to build intuition and practice using Pytorch, ConvNets, and DL in general."
      ]
    },
    {
      "cell_type": "code",
      "execution_count": 17,
      "metadata": {
        "colab": {
          "base_uri": "https://localhost:8080/"
        },
        "id": "iLr31JJu5tq-",
        "outputId": "db61faab-b2e1-4a51-bc5c-56eee79be34e"
      },
      "outputs": [
        {
          "output_type": "stream",
          "name": "stderr",
          "text": [
            "/usr/local/lib/python3.10/dist-packages/torchvision/transforms/v2/_deprecated.py:43: UserWarning: The transform `ToTensor()` is deprecated and will be removed in a future release. Instead, please use `v2.Compose([v2.ToImage(), v2.ToDtype(torch.float32, scale=True)])`.\n",
            "  warnings.warn(\n"
          ]
        },
        {
          "output_type": "stream",
          "name": "stdout",
          "text": [
            "Files already downloaded and verified\n",
            "Files already downloaded and verified\n",
            "Files already downloaded and verified\n",
            "50000\n",
            "100000\n",
            "10000\n"
          ]
        }
      ],
      "source": [
        "\n",
        "# No transformations for unaugmented data\n",
        "NO_AUG = transforms.Compose([ transforms.ToTensor()\n",
        "                            ])\n",
        "\n",
        "# Randomly applying Horizontal and Verticial Flips (images in the dataset are all oriented similarly)\n",
        "# In the hope that the model will better detect the \"shapes\" of various objects. I played around with a bunch of transformations that looked interesting\n",
        "# so not worried too much about which I picked.\n",
        "AUG = transforms.Compose([  transforms.RandomHorizontalFlip(),\n",
        "                            transforms.RandomVerticalFlip(),\n",
        "                            transforms.ToTensor()\n",
        "                          ])\n",
        "RAND = transforms.Compose([ transforms.RandomRotation(0.2),\n",
        "                            transforms.ToTensor()\n",
        "                          ])\n",
        "\n",
        "\n",
        "# Using CIFAR10 as it is small and standard. It contains around 60,000 32px x 32px images divided evenly between 10 categories.\n",
        "\n",
        "# Loading two versions of the training dataset with and without transforms.\n",
        "cifar_train_reg = torchvision.datasets.CIFAR10(root = 'data',\n",
        "                                             train = True,\n",
        "                                             download = True,\n",
        "                                             transform = NO_AUG\n",
        "                                             )\n",
        "\n",
        "\n",
        "cifar_train_aug = torchvision.datasets.CIFAR10(root = 'data',\n",
        "                                             train = True,\n",
        "                                             download = True,\n",
        "                                             transform = AUG\n",
        "                                             )\n",
        "\n",
        "# Augmenting the training set - only increasing the size by a factor of 2 with random transforms; could be more systematic but\n",
        "# this will serve our exploratory purpose.\n",
        "cifar_train_aug = torch.utils.data.ConcatDataset([cifar_train_aug, cifar_train_reg])\n",
        "\n",
        "# Loading testing dataset with transformations, as a proxy for unseen real-world data\n",
        "cifar_test = torchvision.datasets.CIFAR10(root = 'data',\n",
        "                                            train = False,\n",
        "                                            download=True,\n",
        "                                            transform = RAND\n",
        "                                          )\n",
        "\n",
        "# Checking the size of the dataset and whether the augmentation worked\n",
        "print(len(cifar_train_reg))\n",
        "print(len(cifar_train_aug))\n",
        "print(len(cifar_test))\n",
        "\n"
      ]
    },
    {
      "cell_type": "code",
      "execution_count": 18,
      "metadata": {
        "colab": {
          "base_uri": "https://localhost:8080/",
          "height": 982
        },
        "id": "kRR_FkM07-be",
        "outputId": "2ed85347-ff47-4dd3-9a73-c50679dc5648"
      },
      "outputs": [
        {
          "output_type": "display_data",
          "data": {
            "text/plain": [
              "<Figure size 600x1200 with 12 Axes>"
            ],
            "image/png": "[encoded data removed]"
          },
          "metadata": {}
        }
      ],
      "source": [
        "# Label map for the labels in CIFAR10\n",
        "label_map = [\"airplane\", \"automobile\", \"bird\", \"cat\", \"deer\", \"dog\", \"frog\", \"horse\", \"ship\", \"truck\"]\n",
        "\n",
        "figsize = (6, 12)\n",
        "figure = plt.figure(figsize=figsize)\n",
        "rows = 6\n",
        "\n",
        "# Looking at a random sample of augmented and unaugmented images.\n",
        "for i in range(rows):\n",
        "  idx = torch.randint(len(cifar_train_reg), size = (1,)).item() # Random index in the dataset\n",
        "  for j in range(2): # Num Columns = 2\n",
        "      # Based on column, selecting augmented or regular image\n",
        "      if j==0:\n",
        "        img, label = cifar_train_reg[idx]\n",
        "        label = label_map[label] + \"_reg\" # Using the actual label to title the images\n",
        "      else:\n",
        "        img, label = cifar_train_aug[idx]\n",
        "        label = label_map[label] + \"_aug\"\n",
        "\n",
        "      figure.add_subplot(rows, 2, i*2+j+1)\n",
        "      plt.axis(\"off\")\n",
        "      plt.title(label, fontsize=14)\n",
        "      plt.imshow(img.T)\n",
        "plt.show()\n"
      ]
    },
    {
      "cell_type": "code",
      "execution_count": 19,
      "metadata": {
        "id": "Oh7AelsGLItQ"
      },
      "outputs": [],
      "source": [
        "# Creating the dataloaders\n",
        "batch_size = 64\n",
        "\n",
        "train_reg_dl = DataLoader(cifar_train_reg, batch_size = batch_size, shuffle = True)\n",
        "train_aug_dl = DataLoader(cifar_train_aug, batch_size = batch_size, shuffle = True)\n",
        "test_dl = DataLoader(cifar_test, batch_size = 64, shuffle = True)"
      ]
    },
    {
      "cell_type": "markdown",
      "metadata": {
        "id": "dIMPqmp5LerG"
      },
      "source": [
        "# Building a ConvNet:"
      ]
    },
    {
      "cell_type": "markdown",
      "metadata": {
        "id": "Z8cZznXeFMKK"
      },
      "source": [
        "Creating a custom ConvNet structure. I tweaked the sizes of the Conv layers to see how the model performance would change - although I'm not aiming at maximum accuracy here (just experimenting with augmentation)."
      ]
    },
    {
      "cell_type": "code",
      "execution_count": 20,
      "metadata": {
        "id": "qUgLa9M-C2NL"
      },
      "outputs": [],
      "source": [
        "class ConvNet(nn.Module):\n",
        "    def __init__(self):\n",
        "        \"\"\"Custom ConvNet with 3 Conv blocks, with a Conv layer and a MaxPool layer each, followed by a fully-connected head for classification. \"\"\"\n",
        "        super(ConvNet, self).__init__()\n",
        "\n",
        "        self.conv1 = nn.Conv2d(in_channels = 3, out_channels = 32, kernel_size = 3, stride = 1, padding=1) # First Conv outputs 8 features\n",
        "        self.conv2 = nn.Conv2d(32, 64, 3, 1, 1)        # Doubles the features, as is good practice\n",
        "        self.conv3 = nn.Conv2d(64, 128, 3, 1, 1)\n",
        "        self.maxpool = nn.MaxPool2d(kernel_size = 2, stride = 2) # To detect higher level features\n",
        "        self.flatten = nn.Flatten()\n",
        "        self.lin1 = nn.Linear(16*128, 512) # After 3 layers of MaxPool, the 128 features have 16px\n",
        "        self.lin2 = nn.Linear(512, 10)\n",
        "        self.relu = nn.ReLU()\n",
        "        self.dropout = nn.Dropout() # So that no particular features \"take over\"\n",
        "\n",
        "\n",
        "    def forward(self, inp):\n",
        "      # Model Architecture:\n",
        "\n",
        "        # First Conv Block\n",
        "        out = self.relu(self.conv1(inp))\n",
        "        out = self.maxpool(out)\n",
        "\n",
        "        # Second Conv Block\n",
        "        out = self.relu(self.conv2(out))\n",
        "        out = self.maxpool(out)\n",
        "\n",
        "        # Third Conv Block\n",
        "        out = self.relu(self.conv3(out))\n",
        "        out = self.maxpool(out)\n",
        "\n",
        "        # Classification Head\n",
        "        out = self.flatten(out)\n",
        "        out = self.relu(self.lin1(out))\n",
        "        out = self.dropout(out)  # Common configuration for Dropout\n",
        "        out = self.lin2(out)\n",
        "\n",
        "        return out"
      ]
    },
    {
      "cell_type": "markdown",
      "metadata": {
        "id": "ki4HyvyCHQmT"
      },
      "source": [
        "Building two distinct models to train on the two datasets."
      ]
    },
    {
      "cell_type": "code",
      "execution_count": 21,
      "metadata": {
        "id": "XrdbBfVKC2Kb"
      },
      "outputs": [],
      "source": [
        "model_reg = ConvNet()\n",
        "model_aug = ConvNet()"
      ]
    },
    {
      "cell_type": "markdown",
      "metadata": {
        "id": "J9-UdMSgUYVg"
      },
      "source": [
        "# Training:"
      ]
    },
    {
      "cell_type": "markdown",
      "metadata": {
        "id": "-F-yP0YEXioO"
      },
      "source": [
        "We train both models using the standard loss function for multicategory classification and Adam Optimizer (because it is so good)."
      ]
    },
    {
      "cell_type": "code",
      "execution_count": 22,
      "metadata": {
        "id": "koSe_zicC2Hk"
      },
      "outputs": [],
      "source": [
        "loss_func = nn.CrossEntropyLoss()\n",
        "optimizer_reg = torch.optim.Adam(model_reg.parameters(), lr=1e-3)\n",
        "optimizer_aug = torch.optim.Adam(model_aug.parameters(), lr=1e-3)\n"
      ]
    },
    {
      "cell_type": "code",
      "execution_count": null,
      "metadata": {
        "colab": {
          "base_uri": "https://localhost:8080/"
        },
        "id": "Wg0pMjzTC2E3",
        "outputId": "3a2e4560-8771-48b0-caf3-4d4ac01dba61"
      },
      "outputs": [
        {
          "output_type": "stream",
          "name": "stdout",
          "text": [
            "Epoch 1 of 12:\n"
          ]
        }
      ],
      "source": [
        "\n",
        "def train(model, loss_func, optimizer, dataloader, epochs):\n",
        "\n",
        "    # Initializing history variables\n",
        "    loss_hist = []\n",
        "    acc_hist = []\n",
        "\n",
        "    for i in range(epochs):\n",
        "\n",
        "        # Putting model in Training mode\n",
        "        model.train()\n",
        "\n",
        "        print(\"Epoch {:d} of {:d}:\".format(i+1, epochs))\n",
        "\n",
        "        # Accumulators for loss and accuracy over an epoch\n",
        "        epoch_loss = 0\n",
        "        epoch_acc = 0\n",
        "\n",
        "        # Going through the data in batches\n",
        "        for j, (imgs, labels) in enumerate(dataloader):\n",
        "\n",
        "            # Finding prediction probabilities and the predicted classes\n",
        "            probs = model(imgs)\n",
        "            preds = torch.argmax(probs, 1)\n",
        "\n",
        "            # Calculating loss and number of correct predictions and adding to epoch totals\n",
        "            loss = loss_func(probs, labels)\n",
        "            corr = torch.sum(preds == labels.data)\n",
        "            epoch_loss += loss.item()\n",
        "            epoch_acc += corr.item()\n",
        "\n",
        "            # Printing every 100th batch to keep track of training progress (and troubleshoot) since cpu training is slow\n",
        "            if ((j+1)% 100 == 0):\n",
        "                print(\"\\t For batch {:d}: Loss: {:f}, Accuracy: {:f}\".format(j+1, loss.item()/batch_size, float(corr.item())/batch_size))\n",
        "\n",
        "            # Gradient descent using Adam\n",
        "            optimizer.zero_grad()\n",
        "            loss.backward()\n",
        "            optimizer.step()\n",
        "\n",
        "        # Calculating averae loss and accurary from epoch totals\n",
        "        epoch_loss /= len(dataloader)\n",
        "        epoch_acc  /= len(dataloader)\n",
        "\n",
        "        # Printing epoch summary\n",
        "        print(\"Epoch {:d}: Training Loss: {:f}, Accuracy: {:f} \\n\".format(i+1, epoch_loss, epoch_acc))\n",
        "\n",
        "        # Adding epoch summary to history variables\n",
        "        loss_hist.append(epoch_loss)\n",
        "        acc_hist.append(epoch_acc)\n",
        "\n",
        "\n",
        "        # Cross-Validating to find best model\n",
        "        # Accumulating loss and count of correct predictions\n",
        "        total_loss = 0\n",
        "        total_corr = 0\n",
        "\n",
        "        # Putting model in eval mode\n",
        "        model.eval()\n",
        "\n",
        "        # Since we are testing, we do not need to keep track of gradients\n",
        "        with torch.no_grad():\n",
        "\n",
        "            for imgs, labels in dataloader:\n",
        "\n",
        "                # Calculating prediction probabilities and label predictions\n",
        "                probs = model(imgs)\n",
        "                preds = torch.argmax(probs, 1)\n",
        "\n",
        "                # Accumulating loss and corrects\n",
        "                total_loss = loss_func(probs, labels).item()\n",
        "                total_corr += torch.sum(preds == labels).item()\n",
        "\n",
        "            # Calculatung average loss and accuracy\n",
        "            avg_loss = total_loss / len(dataloader)\n",
        "            acc  = float(total_corr)/len(dataloader)\n",
        "\n",
        "            # Printing testing summary\n",
        "            print(\"Testing Loss: {:f}, Accuracy: {:f}\".format(avg_loss, acc))\n",
        "\n",
        "    return(loss_hist, acc_hist)\n",
        "\n",
        "# Training both models for 12 epochs\n",
        "loss_hist_reg, acc_hist_reg = train(model_reg, loss_func=loss_func, optimizer=optimizer_reg, dataloader=train_reg_dl, epochs=12)\n",
        "loss_hist_aug, acc_hist_aug = train(model_aug, loss_func=loss_func, optimizer=optimizer_aug, dataloader=train_aug_dl, epochs=12)"
      ]
    },
    {
      "cell_type": "markdown",
      "metadata": {
        "id": "3b-2f1XSPOEV"
      },
      "source": [
        "# Results:"
      ]
    },
    {
      "cell_type": "markdown",
      "metadata": {
        "id": "-o2q9Rn1YAd1"
      },
      "source": [
        "We first compare the training loss and accuracy of our two models on their respective datasets."
      ]
    },
    {
      "cell_type": "code",
      "execution_count": null,
      "metadata": {
        "id": "2OkGtvjnTvhE"
      },
      "outputs": [],
      "source": [
        "# Setting up the plots\n",
        "plt.figsize = (5, 5)\n",
        "plt.style.use(\"seaborn-v0_8-whitegrid\")\n",
        "\n",
        "# Plot of model training loss\n",
        "plt.plot(loss_hist_reg, label=\"Reg Loss\")\n",
        "plt.plot(loss_hist_aug, label=\"Aug Loss\")\n",
        "plt.title(\"Comparing Augmented and Regular Loss\")\n",
        "plt.legend()\n",
        "plt.show()\n",
        "\n",
        "# Plot of model accuracy\n",
        "plt.plot(acc_hist_reg, label=\"Reg Acc\")\n",
        "plt.plot(acc_hist_aug, label=\"Aug Acc\")\n",
        "plt.title(\"Comparing Augmented and Regular Accuracy\")\n",
        "plt.legend()\n",
        "plt.show()"
      ]
    },
    {
      "cell_type": "markdown",
      "metadata": {
        "id": "6IHC4YWBYXpL"
      },
      "source": [
        "Now, we compare the models on the testing dataset (which has no transformations)"
      ]
    },
    {
      "cell_type": "code",
      "execution_count": null,
      "metadata": {
        "id": "tMnMoXOiC2CG"
      },
      "outputs": [],
      "source": [
        "# Test Function to get Cross-Validation Scores\n",
        "def test(model, dataloader):\n",
        "\n",
        "    # Accumulating loss and count of correct predictions\n",
        "    total_loss = 0\n",
        "    total_corr = 0\n",
        "\n",
        "    # Putting model in eval mode\n",
        "    model.eval()\n",
        "\n",
        "    # Since we are testing, we do not need to keep track of gradients\n",
        "    with torch.no_grad():\n",
        "\n",
        "        for imgs, labels in dataloader:\n",
        "\n",
        "            # Calculating prediction probabilities and label predictions\n",
        "            probs = model(imgs)\n",
        "            preds = torch.argmax(probs, 1)\n",
        "\n",
        "            # Accumulating loss and corrects\n",
        "            total_loss = loss_func(probs, labels).item()\n",
        "            total_corr += torch.sum(preds == labels).item()\n",
        "\n",
        "        # Calculatung average loss and accuracy\n",
        "        avg_loss = total_loss / len(dataloader)\n",
        "        acc  = float(total_corr)/len(dataloader)\n",
        "\n",
        "        # Printing testing summary\n",
        "        print(\"Testing Loss: {:f}, Accuracy: {:f}\".format(avg_loss, acc))\n",
        "\n",
        "# Testing both models\n",
        "test(model_reg, test_dl)\n",
        "test(model_aug, test_dl)\n"
      ]
    },
    {
      "cell_type": "markdown",
      "metadata": {
        "id": "kjT2_8C8dKpl"
      },
      "source": [
        "ANALYSIS"
      ]
    },
    {
      "cell_type": "markdown",
      "metadata": {
        "id": "JoBJ6DZTZIpS"
      },
      "source": [
        "I am curious to see how the regular model performs on the augmented dataset. Noting that it had access to half of that training set (the non-transformed half), I wanna see the drop in accuracy to qualitatively see how well the model succeeds/fails to generalize."
      ]
    },
    {
      "cell_type": "code",
      "execution_count": null,
      "metadata": {
        "id": "khIO_5vIZIQV"
      },
      "outputs": [],
      "source": [
        "test(model_reg, train_aug_dl)"
      ]
    },
    {
      "cell_type": "markdown",
      "metadata": {
        "id": "c9nIDgc3dI3I"
      },
      "source": [
        "ANALYSIS"
      ]
    },
    {
      "cell_type": "markdown",
      "metadata": {
        "id": "004mjq8XZw_3"
      },
      "source": [
        "Selecting a random image, I look at some features that the first Conv block of each model picked up. Qualitative visual differences in these can be interesting to note as a proxy for the effects of augmentation on training."
      ]
    },
    {
      "cell_type": "code",
      "execution_count": null,
      "metadata": {
        "id": "7GOj-cpBYFCj"
      },
      "outputs": [],
      "source": [
        "# Selecting a random number for each batch\n",
        "idx = torch.randint(batch_size, size= (1,)).item()\n",
        "imgs, labels = next(iter(test_dl))\n",
        "\n",
        "# Unpacking the image data and the (text) label\n",
        "img, label = imgs[idx], label_map[labels[idx].item()]\n",
        "\n",
        "#Displaying the image\n",
        "plt.title(label)\n",
        "plt.imshow(img.T)\n",
        "plt.axis(\"off\")\n",
        "plt.show()\n",
        "\n",
        "# Calculating the features after the first Conv block\n",
        "features_reg = model_reg.relu(model_reg.conv1(img))\n",
        "features_aug = model_aug.relu(model_aug.conv1(img))\n",
        "\n",
        "# Setting up the plot\n",
        "figsize = (12, 18)\n",
        "figure = plt.figure(figsize=figsize)\n",
        "\n",
        "# Setting up the grid\n",
        "row, cols = 8, 4\n",
        "for i in range(rows):\n",
        "  for j in range(cols):\n",
        "\n",
        "      # Printing 2 features from each model per row (alternating)\n",
        "      if j % 2 ==0:\n",
        "        # Converting to numpy for matplotlib to use\n",
        "        img = features_reg[2*i+j//2].T.detach().numpy()\n",
        "        label = \"Feature {:d} Reg\".format(2*i+j//2)\n",
        "\n",
        "      else:\n",
        "        img = features_aug[2*i+int((j-1)//2)].T.detach().numpy()\n",
        "        label = \"Feature {:d} Aug\".format(2*i+(j-1)//2)\n",
        "\n",
        "\n",
        "      # Adding in the plots\n",
        "      figure.add_subplot(rows, cols, i*cols+j+1)\n",
        "      plt.axis(\"off\")\n",
        "      plt.title(label, fontsize=14)\n",
        "      plt.imshow(img)\n",
        "plt.show()\n"
      ]
    },
    {
      "cell_type": "markdown",
      "metadata": {
        "id": "M0R5bNopdGo7"
      },
      "source": [
        "ANALYSIS"
      ]
    },
    {
      "cell_type": "markdown",
      "metadata": {
        "id": "kd_LPGTRdAGi"
      },
      "source": [
        "Saving the models:"
      ]
    },
    {
      "cell_type": "code",
      "execution_count": null,
      "metadata": {
        "id": "L7nKrjEKiT92"
      },
      "outputs": [],
      "source": [
        "torch.save(model_reg.state_dict(), \"./cifar10reg.pth\")\n",
        "torch.save(model_aug.state_dict(), \"./cifar10aug.pth\")"
      ]
    }
  ],
  "metadata": {
    "colab": {
      "provenance": [],
      "authorship_tag": "ABX9TyMXBExuyW/AvTEBufOHDB0C",
      "include_colab_link": true
    },
    "kernelspec": {
      "display_name": "Python 3",
      "name": "python3"
    },
    "language_info": {
      "name": "python"
    }
  },
  "nbformat": 4,
  "nbformat_minor": 0
}